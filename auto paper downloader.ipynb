{
 "cells": [
  {
   "cell_type": "code",
   "execution_count": 1,
   "id": "e038b20f",
   "metadata": {},
   "outputs": [],
   "source": [
    "from selenium import webdriver\n",
    "from selenium.webdriver.support.ui import WebDriverWait\n",
    "from selenium.webdriver.support import expected_conditions as EC\n",
    "from selenium.webdriver.common.by import By\n",
    "import requests"
   ]
  },
  {
   "cell_type": "code",
   "execution_count": 2,
   "id": "b0fe9739",
   "metadata": {},
   "outputs": [],
   "source": [
    "\n",
    "\n",
    "# # Replace with the URL of the webpage containing the button\n",
    "# # url = 'https://www.semanticscholar.org/paper/On-constructing-benchmark-quantum-circuits-with-Li-Zhou/1967ef3b91821e553544f9ee57519b664c3ba04c'\n",
    "# def semantic_scholar(title, url):\n",
    "#     # Create a new instance of the Chrome browser\n",
    "#     driver = webdriver.Chrome('/Users/vincent/ChatGPT bot/chromedriver_mac64/chromedriver')\n",
    "#     wait = WebDriverWait(driver, 10)  # Adjust the waiting time as needed\n",
    "#     # Navigate to the URL\n",
    "#     driver.get(url)\n",
    "\n",
    "#     element = wait.until(EC.element_to_be_clickable((By.XPATH, '/html/body/div[1]/div[1]/div[2]/div/div[1]/div/div/div[1]/div/div[2]/div[1]/div/div/div/div/div[1]/button')))\n",
    "#     element.click()\n",
    "\n",
    "\n",
    "\n",
    "#     element = wait.until(EC.element_to_be_clickable((By.XPATH, '/html/body/div[1]/div[1]/div[2]/div/div[1]/div/div/div[1]/div/div[2]/div[1]/div/div/div/div/div[2]/div/div[2]/div[2]/ul/li/a/span/span')))\n",
    "#     element.click()\n",
    "#     # Wait for the new window or tab to open\n",
    "#     driver.implicitly_wait(10)  # Adjust the waiting time as needed\n",
    "\n",
    "\n",
    "#     # Switch to the new window or tab\n",
    "#     new_window_handle = None\n",
    "#     for handle in driver.window_handles:\n",
    "#         if handle != driver.current_window_handle:\n",
    "#             new_window_handle = handle\n",
    "#             break\n",
    "\n",
    "#     if new_window_handle is not None:\n",
    "#         driver.switch_to.window(new_window_handle)\n",
    "#     else:\n",
    "#         raise RuntimeError(\"New window or tab not found.\")\n",
    "\n",
    "#     # Get the URL of the new page\n",
    "#     current_url = driver.current_url\n",
    "#     print(\"Current URL:\", current_url)\n",
    "#     download_arxiv(title, current_url)\n",
    "    \n",
    "\n",
    "#     driver.quit()  # Close the browser and end the WebDriver session\n",
    "#     # Close the browser\n",
    "#     # driver.quit()\n"
   ]
  },
  {
   "cell_type": "code",
   "execution_count": 3,
   "id": "36853dfc",
   "metadata": {},
   "outputs": [],
   "source": [
    "def semantic_scholar(title, url):\n",
    "    # Create a new instance of the Chrome browser\n",
    "    driver = webdriver.Chrome('/Users/vincent/ChatGPT bot/chromedriver_mac64/chromedriver')\n",
    "    wait = WebDriverWait(driver, 10)  # Adjust the waiting time as needed\n",
    "    # Navigate to the URL\n",
    "    driver.get('https://www.semanticscholar.org/')\n",
    "    element = wait.until(EC.element_to_be_clickable((By.XPATH, '/html/body/div[1]/div[1]/div[1]/section/div[2]/div[1]/form/div/div/input')))\n",
    "    element.clear()\n",
    "    element.send_keys(title)\n",
    "\n",
    "\n",
    "#     /html/body/div[1]/div[1]/div[2]/div/div[2]/div[1]/div/div[1]/div[2]/div[1]/ul/li[2]/div/a/div/span/span\n",
    "    element = wait.until(EC.element_to_be_clickable((By.XPATH, '/html/body/div[1]/div[1]/div[1]/section/div[2]/div[1]/form/div/div/button/div/span')))\n",
    "    element.click()\n",
    "    # Wait for the new window or tab to open\n",
    "    driver.implicitly_wait(3)  # Adjust the waiting time as needed\n",
    "    # Alternatively, you can use XPath\n",
    "    pdf_elements = driver.find_elements(By.XPATH, \"//span[@class='cl-paper-stats__symbol']\")\n",
    "    pdf_elements[0].click()\n",
    "    driver.implicitly_wait(3)  # Adjust the waiting time as needed\n",
    "    # Switch to the new window or tab\n",
    "    new_window_handle = None\n",
    "    for handle in driver.window_handles:\n",
    "        if handle != driver.current_window_handle:\n",
    "            new_window_handle = handle\n",
    "            break\n",
    "\n",
    "    if new_window_handle is not None:\n",
    "        driver.switch_to.window(new_window_handle)\n",
    "    else:\n",
    "        raise RuntimeError(\"New window or tab not found.\")\n",
    "\n",
    "    # Get the URL of the new page\n",
    "    current_url = driver.current_url\n",
    "    print(\"Current URL:\", current_url)\n",
    "    download_arxiv(title, current_url)\n",
    "    \n",
    "\n",
    "#     driver.quit()  # Close the browser and end the WebDriver session\n",
    "    # Close the browser\n",
    "    # driver.quit()\n"
   ]
  },
  {
   "cell_type": "code",
   "execution_count": 4,
   "id": "e7f9f674",
   "metadata": {},
   "outputs": [],
   "source": [
    "def download_arxiv(title, url):\n",
    "    response = requests.get(url)\n",
    "\n",
    "    # Check if the request was successful (status code 200)\n",
    "    if response.status_code == 200:\n",
    "        file_name = title.replace(\"/\", \"_\").replace(\":\", \"_\") + \".pdf\"\n",
    "        with open(file_name, 'wb') as f:\n",
    "            f.write(response.content)\n",
    "    else:\n",
    "        print('Failed to download the PDF file.')"
   ]
  },
  {
   "cell_type": "code",
   "execution_count": 5,
   "id": "f47f8e6c",
   "metadata": {},
   "outputs": [
    {
     "name": "stdout",
     "output_type": "stream",
     "text": [
      "['Nuwa: A Quantum Circuit Transpiler Based on a Finite-Horizon Heuristic for Placement and Routing', 'ISAAQ: Ising Machine Assisted Quantum Compiler', 'Reinforcement Learning and DEAR Framework for Solving the Qubit Mapping Problem', 'Charter: Identifying the Most-Critical Gate Operations in Quantum Circuits via Amplified Gate Reversibility', 'Qubit Mapping for Reconfigurable Atom Arrays', 'A Robust Quantum Layout Synthesis Algorithm with a Qubit Mapping Checker*', 'QuCloud+: A Holistic Qubit Mapping Scheme for Single/Multi-programming on 2D/3D NISQ Quantum Computers', 'Mitigating Crosstalk in Quantum Computers through Commutativity-Based Instruction Reordering', 'Best Approximate Quantum Compiling Problems', 'Survey on Quantum Circuit Compilation for Noisy Intermediate-Scale Quantum Computers: Artificial Intelligence to Heuristics', 'Qubit allocation', 'Mapping Quantum Circuits to IBM QX Architectures Using the Minimal Number of SWAP and H Operations', 'An Efficient Methodology for Mapping Quantum Circuits to the IBM QX Architectures', 'Not All Qubits Are Created Equal: A Case for Variability-Aware Policies for NISQ-Era Quantum Computers', 'Quantum Computing in the NISQ era and beyond', 'Noise-Adaptive Compiler Mappings for Noisy Intermediate-Scale Quantum Computers', 'Optimization of quantum circuits for interaction distance in linear nearest neighbor architectures', 'Synthesis of quantum circuits for linear nearest neighbor architectures', 'Look-ahead schemes for nearest neighbor optimization of 1D and 2D quantum circuits', 'Qubit placement to minimize communication overhead in 2D quantum architectures']\n"
     ]
    },
    {
     "name": "stderr",
     "output_type": "stream",
     "text": [
      "<ipython-input-3-2f78686db340>:3: DeprecationWarning: executable_path has been deprecated, please pass in a Service object\n",
      "  driver = webdriver.Chrome('/Users/vincent/ChatGPT bot/chromedriver_mac64/chromedriver')\n"
     ]
    },
    {
     "name": "stdout",
     "output_type": "stream",
     "text": [
      "Current URL: https://arxiv.org/pdf/2110.00592.pdf\n",
      "Current URL: https://arxiv.org/pdf/2303.02830.pdf\n",
      "error Reinforcement Learning and DEAR Framework for Solving the Qubit Mapping Problem\n",
      "Current URL: https://arxiv.org/pdf/2211.09903.pdf\n",
      "Current URL: https://dl.acm.org/doi/pdf/10.1145/3508352.3549331\n",
      "error A Robust Quantum Layout Synthesis Algorithm with a Qubit Mapping Checker*\n",
      "Current URL: https://arxiv.org/pdf/2207.14483.pdf\n",
      "Current URL: https://pacman.cs.tsinghua.edu.cn/~zjd/publication/dac-21-xie/dac-21-xie.pdf\n",
      "Current URL: https://dl.acm.org/doi/pdf/10.1145/3505181\n",
      "Current URL: https://ieeexplore.ieee.org/ielx7/8924785/9347847/09384317.pdf?tag=1\n",
      "Failed to download the PDF file.\n",
      "error Qubit allocation\n",
      "Current URL: https://arxiv.org/pdf/1907.02026.pdf\n",
      "Current URL: https://arxiv.org/pdf/1712.04722.pdf\n",
      "Current URL: None\n",
      "error Not All Qubits Are Created Equal: A Case for Variability-Aware Policies for NISQ-Era Quantum Computers\n",
      "Current URL: https://arxiv.org/pdf/1801.00862.pdf\n",
      "Current URL: https://dl.acm.org/doi/pdf/10.1145/3297858.3304075\n",
      "Current URL: https://mpedram.com/~massoud/Papers/LNNSyn-dac13.pdf\n",
      "error Synthesis of quantum circuits for linear nearest neighbor architectures\n",
      "Current URL: http://140.78.161.123/digital/2016_aspdac_quantum_circuits_nn_optimization_look_ahead.pdf\n",
      "error Look-ahead schemes for nearest neighbor optimization of 1D and 2D quantum circuits\n",
      "Current URL: https://mpedram.com/Papers/Qbit-Placement-aspdac14.pdf\n"
     ]
    },
    {
     "ename": "IndexError",
     "evalue": "list index out of range",
     "output_type": "error",
     "traceback": [
      "\u001b[0;31m---------------------------------------------------------------------------\u001b[0m",
      "\u001b[0;31mIndexError\u001b[0m                                Traceback (most recent call last)",
      "\u001b[0;32m<ipython-input-5-3cc70ecabbff>\u001b[0m in \u001b[0;36m<module>\u001b[0;34m\u001b[0m\n\u001b[1;32m     11\u001b[0m     \u001b[0;32mtry\u001b[0m\u001b[0;34m:\u001b[0m\u001b[0;34m\u001b[0m\u001b[0;34m\u001b[0m\u001b[0m\n\u001b[0;32m---> 12\u001b[0;31m         \u001b[0msemantic_scholar\u001b[0m\u001b[0;34m(\u001b[0m\u001b[0mmatch\u001b[0m\u001b[0;34m[\u001b[0m\u001b[0mi\u001b[0m\u001b[0;34m]\u001b[0m\u001b[0;34m,\u001b[0m \u001b[0murl\u001b[0m\u001b[0;34m[\u001b[0m\u001b[0mi\u001b[0m\u001b[0;34m]\u001b[0m\u001b[0;34m[\u001b[0m\u001b[0;34m:\u001b[0m\u001b[0;34m-\u001b[0m\u001b[0;36m2\u001b[0m\u001b[0;34m]\u001b[0m\u001b[0;34m)\u001b[0m\u001b[0;34m\u001b[0m\u001b[0;34m\u001b[0m\u001b[0m\n\u001b[0m\u001b[1;32m     13\u001b[0m     \u001b[0;32mexcept\u001b[0m\u001b[0;34m:\u001b[0m\u001b[0;34m\u001b[0m\u001b[0;34m\u001b[0m\u001b[0m\n",
      "\u001b[0;31mIndexError\u001b[0m: list index out of range",
      "\nDuring handling of the above exception, another exception occurred:\n",
      "\u001b[0;31mIndexError\u001b[0m                                Traceback (most recent call last)",
      "\u001b[0;32m<ipython-input-5-3cc70ecabbff>\u001b[0m in \u001b[0;36m<module>\u001b[0;34m\u001b[0m\n\u001b[1;32m     12\u001b[0m         \u001b[0msemantic_scholar\u001b[0m\u001b[0;34m(\u001b[0m\u001b[0mmatch\u001b[0m\u001b[0;34m[\u001b[0m\u001b[0mi\u001b[0m\u001b[0;34m]\u001b[0m\u001b[0;34m,\u001b[0m \u001b[0murl\u001b[0m\u001b[0;34m[\u001b[0m\u001b[0mi\u001b[0m\u001b[0;34m]\u001b[0m\u001b[0;34m[\u001b[0m\u001b[0;34m:\u001b[0m\u001b[0;34m-\u001b[0m\u001b[0;36m2\u001b[0m\u001b[0;34m]\u001b[0m\u001b[0;34m)\u001b[0m\u001b[0;34m\u001b[0m\u001b[0;34m\u001b[0m\u001b[0m\n\u001b[1;32m     13\u001b[0m     \u001b[0;32mexcept\u001b[0m\u001b[0;34m:\u001b[0m\u001b[0;34m\u001b[0m\u001b[0;34m\u001b[0m\u001b[0m\n\u001b[0;32m---> 14\u001b[0;31m         \u001b[0mprint\u001b[0m\u001b[0;34m(\u001b[0m\u001b[0;34m\"error\"\u001b[0m\u001b[0;34m,\u001b[0m \u001b[0mmatch\u001b[0m\u001b[0;34m[\u001b[0m\u001b[0mi\u001b[0m\u001b[0;34m]\u001b[0m\u001b[0;34m)\u001b[0m\u001b[0;34m\u001b[0m\u001b[0;34m\u001b[0m\u001b[0m\n\u001b[0m",
      "\u001b[0;31mIndexError\u001b[0m: list index out of range"
     ]
    }
   ],
   "source": [
    "import re\n",
    "from pathlib import Path\n",
    "text = Path('data.txt').read_text()\n",
    "\n",
    "url_pattern = r'(https?://\\S+)'\n",
    "url = re.findall(url_pattern, text)\n",
    "pattern = r'title\\s*=\\s*\\{(.*?)\\}'\n",
    "match = re.findall(pattern, text)\n",
    "print(match)\n",
    "for i in range(0, len(url)-1):\n",
    "    try:\n",
    "        semantic_scholar(match[i], url[i][:-2])\n",
    "    except:\n",
    "        print(\"error\", match[i])"
   ]
  },
  {
   "cell_type": "code",
   "execution_count": null,
   "id": "59e7e1c2",
   "metadata": {},
   "outputs": [],
   "source": []
  }
 ],
 "metadata": {
  "kernelspec": {
   "display_name": "Python 3",
   "language": "python",
   "name": "python3"
  },
  "language_info": {
   "codemirror_mode": {
    "name": "ipython",
    "version": 3
   },
   "file_extension": ".py",
   "mimetype": "text/x-python",
   "name": "python",
   "nbconvert_exporter": "python",
   "pygments_lexer": "ipython3",
   "version": "3.8.5"
  }
 },
 "nbformat": 4,
 "nbformat_minor": 5
}
